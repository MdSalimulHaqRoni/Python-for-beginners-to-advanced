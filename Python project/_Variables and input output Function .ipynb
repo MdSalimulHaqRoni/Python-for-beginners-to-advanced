{
 "cells": [
  {
   "cell_type": "markdown",
   "id": "bab3bfa5",
   "metadata": {},
   "source": [
    "# Basic python"
   ]
  },
  {
   "cell_type": "code",
   "execution_count": 2,
   "id": "fcca3211",
   "metadata": {},
   "outputs": [
    {
     "data": {
      "text/plain": [
       "'python world'"
      ]
     },
     "execution_count": 2,
     "metadata": {},
     "output_type": "execute_result"
    }
   ],
   "source": [
    "\"python world\""
   ]
  },
  {
   "cell_type": "code",
   "execution_count": 13,
   "id": "4e831215",
   "metadata": {},
   "outputs": [
    {
     "name": "stdout",
     "output_type": "stream",
     "text": [
      "Hello world & Easy to learn|"
     ]
    }
   ],
   "source": [
    "print('Hello world ',' Easy to learn', sep= '&', end='|')"
   ]
  },
  {
   "cell_type": "code",
   "execution_count": 8,
   "id": "9d1f02b3",
   "metadata": {},
   "outputs": [
    {
     "name": "stdout",
     "output_type": "stream",
     "text": [
      "Hello world\n"
     ]
    }
   ],
   "source": [
    "x = 'Hello world'\n",
    "print(x)"
   ]
  },
  {
   "cell_type": "code",
   "execution_count": 17,
   "id": "8e60d91c",
   "metadata": {},
   "outputs": [
    {
     "name": "stdout",
     "output_type": "stream",
     "text": [
      "Hello world\n",
      "My sentance is Hello world\n"
     ]
    }
   ],
   "source": [
    "x = 'Hello world'\n",
    "print(x)\n",
    "print(\"My sentance is \" + x)"
   ]
  },
  {
   "cell_type": "code",
   "execution_count": 14,
   "id": "78768b1d",
   "metadata": {},
   "outputs": [
    {
     "data": {
      "text/plain": [
       "2265585073968"
      ]
     },
     "execution_count": 14,
     "metadata": {},
     "output_type": "execute_result"
    }
   ],
   "source": [
    "id(x)"
   ]
  },
  {
   "cell_type": "code",
   "execution_count": 18,
   "id": "761fde8d",
   "metadata": {},
   "outputs": [
    {
     "data": {
      "text/plain": [
       "60"
      ]
     },
     "execution_count": 18,
     "metadata": {},
     "output_type": "execute_result"
    }
   ],
   "source": [
    "import sys\n",
    "sys.getsizeof(x)"
   ]
  },
  {
   "cell_type": "code",
   "execution_count": 22,
   "id": "be38886e",
   "metadata": {},
   "outputs": [],
   "source": [
    "y = 50"
   ]
  },
  {
   "cell_type": "code",
   "execution_count": 23,
   "id": "e77aec83",
   "metadata": {},
   "outputs": [
    {
     "data": {
      "text/plain": [
       "50"
      ]
     },
     "execution_count": 23,
     "metadata": {},
     "output_type": "execute_result"
    }
   ],
   "source": [
    "y"
   ]
  },
  {
   "cell_type": "code",
   "execution_count": 24,
   "id": "01cf501e",
   "metadata": {},
   "outputs": [],
   "source": [
    "z = 50"
   ]
  },
  {
   "cell_type": "code",
   "execution_count": 25,
   "id": "6acd9f91",
   "metadata": {},
   "outputs": [
    {
     "data": {
      "text/plain": [
       "50"
      ]
     },
     "execution_count": 25,
     "metadata": {},
     "output_type": "execute_result"
    }
   ],
   "source": [
    "z"
   ]
  },
  {
   "cell_type": "code",
   "execution_count": 26,
   "id": "00e650c6",
   "metadata": {},
   "outputs": [
    {
     "data": {
      "text/plain": [
       "2265503395664"
      ]
     },
     "execution_count": 26,
     "metadata": {},
     "output_type": "execute_result"
    }
   ],
   "source": [
    "id(y)"
   ]
  },
  {
   "cell_type": "code",
   "execution_count": 27,
   "id": "bc9d438e",
   "metadata": {},
   "outputs": [
    {
     "data": {
      "text/plain": [
       "2265503395664"
      ]
     },
     "execution_count": 27,
     "metadata": {},
     "output_type": "execute_result"
    }
   ],
   "source": [
    "id(z)"
   ]
  },
  {
   "cell_type": "code",
   "execution_count": 28,
   "id": "4daaa32a",
   "metadata": {},
   "outputs": [
    {
     "data": {
      "text/plain": [
       "2265585060944"
      ]
     },
     "execution_count": 28,
     "metadata": {},
     "output_type": "execute_result"
    }
   ],
   "source": [
    "x = 1000\n",
    "y = 1000\n",
    "id(x)\n"
   ]
  },
  {
   "cell_type": "code",
   "execution_count": 29,
   "id": "02aeed9b",
   "metadata": {},
   "outputs": [
    {
     "data": {
      "text/plain": [
       "2265585060784"
      ]
     },
     "execution_count": 29,
     "metadata": {},
     "output_type": "execute_result"
    }
   ],
   "source": [
    "id(y)"
   ]
  },
  {
   "cell_type": "code",
   "execution_count": 30,
   "id": "c47c3a9d",
   "metadata": {},
   "outputs": [
    {
     "data": {
      "text/plain": [
       "'Soptak'"
      ]
     },
     "execution_count": 30,
     "metadata": {},
     "output_type": "execute_result"
    }
   ],
   "source": [
    "name = \"Soptak\"\n",
    "name"
   ]
  },
  {
   "cell_type": "code",
   "execution_count": 31,
   "id": "7401c1db",
   "metadata": {},
   "outputs": [
    {
     "data": {
      "text/plain": [
       "90"
      ]
     },
     "execution_count": 31,
     "metadata": {},
     "output_type": "execute_result"
    }
   ],
   "source": [
    "x,y,z = 50, 90, 120\n",
    "y"
   ]
  },
  {
   "cell_type": "markdown",
   "id": "582fa446",
   "metadata": {},
   "source": [
    "# local var vs global var\n"
   ]
  },
  {
   "cell_type": "code",
   "execution_count": 34,
   "id": "eaee7ae2",
   "metadata": {},
   "outputs": [
    {
     "name": "stdout",
     "output_type": "stream",
     "text": [
      "My expected number is: 500\n"
     ]
    }
   ],
   "source": [
    "x = 500 #global variable\n",
    "def func1():\n",
    "    print(\"My expected number is:\", x)\n",
    "func1()"
   ]
  },
  {
   "cell_type": "code",
   "execution_count": 39,
   "id": "82d75387",
   "metadata": {},
   "outputs": [
    {
     "name": "stdout",
     "output_type": "stream",
     "text": [
      "My expected number is: 200\n"
     ]
    }
   ],
   "source": [
    "x = 500 #global variable\n",
    "def func1():\n",
    "    x = 200 #local variable\n",
    "    print(\"My expected number is:\", x)\n",
    "func1()"
   ]
  },
  {
   "cell_type": "code",
   "execution_count": null,
   "id": "95ebb92a",
   "metadata": {},
   "outputs": [],
   "source": []
  },
  {
   "cell_type": "code",
   "execution_count": null,
   "id": "2c854792",
   "metadata": {},
   "outputs": [],
   "source": []
  }
 ],
 "metadata": {
  "kernelspec": {
   "display_name": "Python 3 (ipykernel)",
   "language": "python",
   "name": "python3"
  },
  "language_info": {
   "codemirror_mode": {
    "name": "ipython",
    "version": 3
   },
   "file_extension": ".py",
   "mimetype": "text/x-python",
   "name": "python",
   "nbconvert_exporter": "python",
   "pygments_lexer": "ipython3",
   "version": "3.9.7"
  }
 },
 "nbformat": 4,
 "nbformat_minor": 5
}
