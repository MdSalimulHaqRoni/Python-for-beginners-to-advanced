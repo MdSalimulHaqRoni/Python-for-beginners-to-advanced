{
 "cells": [
  {
   "cell_type": "code",
   "execution_count": 1,
   "id": "533e5eb8",
   "metadata": {},
   "outputs": [
    {
     "name": "stdout",
     "output_type": "stream",
     "text": [
      "AI\n",
      "Data science\n",
      "Statistics\n",
      "Math\n"
     ]
    }
   ],
   "source": [
    "subject = [\"AI\", \"Data science\", \"Statistics\", \"Math\"]\n",
    "for x in subject:\n",
    "    print(x)"
   ]
  },
  {
   "cell_type": "code",
   "execution_count": 2,
   "id": "c4db9136",
   "metadata": {},
   "outputs": [],
   "source": [
    "data = \"Data science\""
   ]
  },
  {
   "cell_type": "code",
   "execution_count": 3,
   "id": "c2e9db14",
   "metadata": {},
   "outputs": [
    {
     "data": {
      "text/plain": [
       "'D'"
      ]
     },
     "execution_count": 3,
     "metadata": {},
     "output_type": "execute_result"
    }
   ],
   "source": [
    "data[0]"
   ]
  },
  {
   "cell_type": "code",
   "execution_count": 4,
   "id": "4a02d968",
   "metadata": {},
   "outputs": [
    {
     "data": {
      "text/plain": [
       "'c'"
      ]
     },
     "execution_count": 4,
     "metadata": {},
     "output_type": "execute_result"
    }
   ],
   "source": [
    "data[-2]"
   ]
  },
  {
   "cell_type": "code",
   "execution_count": 5,
   "id": "63b521cb",
   "metadata": {},
   "outputs": [
    {
     "name": "stdout",
     "output_type": "stream",
     "text": [
      "0\n",
      "1\n",
      "2\n",
      "3\n",
      "4\n",
      "5\n",
      "6\n",
      "7\n",
      "8\n",
      "9\n",
      "10\n",
      "11\n",
      "12\n"
     ]
    }
   ],
   "source": [
    "for x in range(0, 13):\n",
    "    print(x)"
   ]
  },
  {
   "cell_type": "code",
   "execution_count": 6,
   "id": "95f06d91",
   "metadata": {},
   "outputs": [
    {
     "name": "stdout",
     "output_type": "stream",
     "text": [
      "Python\n",
      "programming\n"
     ]
    }
   ],
   "source": [
    "data = \"Python programming\"\n",
    "data = data.split()\n",
    "for i in range(len(data)):\n",
    "    print(data[i])"
   ]
  },
  {
   "cell_type": "code",
   "execution_count": 7,
   "id": "e7c01e5f",
   "metadata": {},
   "outputs": [
    {
     "name": "stdout",
     "output_type": "stream",
     "text": [
      "Total=  5\n",
      "Total=  11\n",
      "Total=  18\n",
      "Total=  26\n",
      "Total=  35\n"
     ]
    }
   ],
   "source": [
    "n = [5, 6, 7, 8, 9]\n",
    "total = 0\n",
    "for x in n:\n",
    "    total = total+x\n",
    "    print(\"Total= \",total)"
   ]
  },
  {
   "cell_type": "code",
   "execution_count": 8,
   "id": "540b5b1c",
   "metadata": {},
   "outputs": [
    {
     "name": "stdout",
     "output_type": "stream",
     "text": [
      "Machine learning 0\n",
      "Machine learning 1\n",
      "Machine learning 2\n",
      "Machine learning 3\n",
      "Machine learning 4\n",
      "Machine learning 5\n",
      "Machine learning 6\n"
     ]
    }
   ],
   "source": [
    "for i in range(7):\n",
    "    print(\"Machine learning\", i)"
   ]
  },
  {
   "cell_type": "code",
   "execution_count": 9,
   "id": "d75cac77",
   "metadata": {},
   "outputs": [
    {
     "name": "stdout",
     "output_type": "stream",
     "text": [
      "Data science 2\n",
      "Data science 3\n",
      "Data science 4\n",
      "Data science 5\n",
      "Data science 6\n"
     ]
    }
   ],
   "source": [
    "for i in range(2, 7):\n",
    "    print(\"Data science\", i)"
   ]
  },
  {
   "cell_type": "code",
   "execution_count": 12,
   "id": "2214b983",
   "metadata": {},
   "outputs": [
    {
     "name": "stdout",
     "output_type": "stream",
     "text": [
      "Deep learning 3\n",
      "Deep learning 5\n"
     ]
    }
   ],
   "source": [
    "for i in range(3, 7, 2):\n",
    "    print(\"Deep learning\", i)"
   ]
  },
  {
   "cell_type": "code",
   "execution_count": 15,
   "id": "75fddc96",
   "metadata": {},
   "outputs": [
    {
     "name": "stdout",
     "output_type": "stream",
     "text": [
      "Neural network 100\n",
      "Neural network 90\n",
      "Neural network 80\n",
      "Neural network 70\n",
      "Neural network 60\n"
     ]
    }
   ],
   "source": [
    "for i in range(100, 50, -10):\n",
    "    print(\"Neural network\", i)"
   ]
  },
  {
   "cell_type": "code",
   "execution_count": 23,
   "id": "5116c4ae",
   "metadata": {},
   "outputs": [
    {
     "name": "stdout",
     "output_type": "stream",
     "text": [
      "10\n",
      "8\n",
      "6\n",
      "4\n",
      "2\n"
     ]
    }
   ],
   "source": [
    "for i in range(10, 0, -2):\n",
    "    print(i)"
   ]
  },
  {
   "cell_type": "code",
   "execution_count": 29,
   "id": "11d9a062",
   "metadata": {},
   "outputs": [
    {
     "data": {
      "image/jpeg": "[encoded data removed]",
      "text/plain": [
       "<IPython.core.display.Image object>"
      ]
     },
     "execution_count": 29,
     "metadata": {},
     "output_type": "execute_result"
    }
   ],
   "source": [
    "from IPython.display import Image\n",
    "Image(\"practice2.JPG\")"
   ]
  },
  {
   "cell_type": "markdown",
   "id": "5a6ad4d9",
   "metadata": {},
   "source": [
    "# 01. Display numbers from -100 to -10 using for loop"
   ]
  },
  {
   "cell_type": "code",
   "execution_count": 26,
   "id": "1eecdedf",
   "metadata": {},
   "outputs": [
    {
     "name": "stdout",
     "output_type": "stream",
     "text": [
      "-100\n",
      "-99\n",
      "-98\n",
      "-97\n",
      "-96\n",
      "-95\n",
      "-94\n",
      "-93\n",
      "-92\n",
      "-91\n",
      "-90\n",
      "-89\n",
      "-88\n",
      "-87\n",
      "-86\n",
      "-85\n",
      "-84\n",
      "-83\n",
      "-82\n",
      "-81\n",
      "-80\n",
      "-79\n",
      "-78\n",
      "-77\n",
      "-76\n",
      "-75\n",
      "-74\n",
      "-73\n",
      "-72\n",
      "-71\n",
      "-70\n",
      "-69\n",
      "-68\n",
      "-67\n",
      "-66\n",
      "-65\n",
      "-64\n",
      "-63\n",
      "-62\n",
      "-61\n",
      "-60\n",
      "-59\n",
      "-58\n",
      "-57\n",
      "-56\n",
      "-55\n",
      "-54\n",
      "-53\n",
      "-52\n",
      "-51\n",
      "-50\n",
      "-49\n",
      "-48\n",
      "-47\n",
      "-46\n",
      "-45\n",
      "-44\n",
      "-43\n",
      "-42\n",
      "-41\n",
      "-40\n",
      "-39\n",
      "-38\n",
      "-37\n",
      "-36\n",
      "-35\n",
      "-34\n",
      "-33\n",
      "-32\n",
      "-31\n",
      "-30\n",
      "-29\n",
      "-28\n",
      "-27\n",
      "-26\n",
      "-25\n",
      "-24\n",
      "-23\n",
      "-22\n",
      "-21\n",
      "-20\n",
      "-19\n",
      "-18\n",
      "-17\n",
      "-16\n",
      "-15\n",
      "-14\n",
      "-13\n",
      "-12\n"
     ]
    }
   ],
   "source": [
    "for i in range(-100, -11):\n",
    "    print(i)"
   ]
  },
  {
   "cell_type": "markdown",
   "id": "4f006ea3",
   "metadata": {},
   "source": [
    "# 02. Sum all prime numbers within a range 10 to 100"
   ]
  },
  {
   "cell_type": "code",
   "execution_count": 41,
   "id": "a5834ace",
   "metadata": {},
   "outputs": [
    {
     "ename": "TypeError",
     "evalue": "unsupported operand type(s) for +: 'int' and 'list'",
     "output_type": "error",
     "traceback": [
      "\u001b[1;31m---------------------------------------------------------------------------\u001b[0m",
      "\u001b[1;31mTypeError\u001b[0m                                 Traceback (most recent call last)",
      "\u001b[1;32m~\\AppData\\Local\\Temp/ipykernel_10224/2037591702.py\u001b[0m in \u001b[0;36m<module>\u001b[1;34m\u001b[0m\n\u001b[0;32m      2\u001b[0m \u001b[0mtotal\u001b[0m \u001b[1;33m=\u001b[0m \u001b[1;36m0\u001b[0m\u001b[1;33m\u001b[0m\u001b[1;33m\u001b[0m\u001b[0m\n\u001b[0;32m      3\u001b[0m \u001b[1;32mfor\u001b[0m \u001b[0mi\u001b[0m \u001b[1;32min\u001b[0m \u001b[0mrange\u001b[0m\u001b[1;33m(\u001b[0m\u001b[1;36m10\u001b[0m\u001b[1;33m,\u001b[0m \u001b[1;36m1001\u001b[0m\u001b[1;33m,\u001b[0m \u001b[1;36m2\u001b[0m\u001b[1;33m)\u001b[0m\u001b[1;33m:\u001b[0m\u001b[1;33m\u001b[0m\u001b[1;33m\u001b[0m\u001b[0m\n\u001b[1;32m----> 4\u001b[1;33m     \u001b[0mtotal\u001b[0m \u001b[1;33m=\u001b[0m \u001b[0mtotal\u001b[0m \u001b[1;33m+\u001b[0m \u001b[0mn\u001b[0m\u001b[1;33m\u001b[0m\u001b[1;33m\u001b[0m\u001b[0m\n\u001b[0m\u001b[0;32m      5\u001b[0m \u001b[0mprint\u001b[0m\u001b[1;33m(\u001b[0m\u001b[1;34m\"Sum = \"\u001b[0m\u001b[1;33m,\u001b[0m \u001b[0mtotal\u001b[0m\u001b[1;33m)\u001b[0m\u001b[1;33m\u001b[0m\u001b[1;33m\u001b[0m\u001b[0m\n\u001b[0;32m      6\u001b[0m \u001b[1;33m\u001b[0m\u001b[0m\n",
      "\u001b[1;31mTypeError\u001b[0m: unsupported operand type(s) for +: 'int' and 'list'"
     ]
    }
   ],
   "source": [
    "n = [10, 1000]\n",
    "total = 0\n",
    "for i in range(10, 1001, 2):\n",
    "    total = total + n\n",
    "print(\"Sum = \", total)\n",
    "    "
   ]
  },
  {
   "cell_type": "markdown",
   "id": "f5f432c5",
   "metadata": {},
   "source": [
    "# 03. Find the factorial of a n!"
   ]
  },
  {
   "cell_type": "code",
   "execution_count": 30,
   "id": "3cb7a042",
   "metadata": {},
   "outputs": [
    {
     "name": "stdout",
     "output_type": "stream",
     "text": [
      "Enter a integer number: 7\n",
      "Factorial =  5040\n"
     ]
    }
   ],
   "source": [
    "num = int(input(\"Enter a integer number: \"))\n",
    "fact = 1\n",
    "i = 1\n",
    "while i <= num:\n",
    "    fact = fact * i\n",
    "    i += 1\n",
    "print(\"Factorial = \", fact)\n"
   ]
  },
  {
   "cell_type": "markdown",
   "id": "53aa728c",
   "metadata": {},
   "source": [
    "# Or"
   ]
  },
  {
   "cell_type": "code",
   "execution_count": 31,
   "id": "dd682375",
   "metadata": {},
   "outputs": [
    {
     "name": "stdout",
     "output_type": "stream",
     "text": [
      "Enter a integer number: 7\n",
      "Factroial =  5040\n"
     ]
    }
   ],
   "source": [
    "num = int(input(\"Enter a integer number: \"))\n",
    "fact = 1\n",
    "for i in range(1, num + 1):\n",
    "    fact = fact * i\n",
    "print(\"Factroial = \", fact)\n"
   ]
  },
  {
   "cell_type": "markdown",
   "id": "d5ed0347",
   "metadata": {},
   "source": [
    "# 04. reverse a given integer number 27956240710"
   ]
  },
  {
   "cell_type": "code",
   "execution_count": 32,
   "id": "78297dea",
   "metadata": {},
   "outputs": [
    {
     "name": "stdout",
     "output_type": "stream",
     "text": [
      "Enter a integer number: 27956240710\n",
      "The reverse number is: 1704265972\n"
     ]
    }
   ],
   "source": [
    "num = int(input(\"Enter a integer number: \"))\n",
    "rev_num = 0\n",
    "while(num > 0):\n",
    "    rem = num % 10\n",
    "    rev_num = (rev_num * 10) + rem\n",
    "    num = num // 10\n",
    "print(\"The reverse number is: {}\".format(rev_num))"
   ]
  },
  {
   "cell_type": "markdown",
   "id": "4353ae81",
   "metadata": {},
   "source": [
    "# Or"
   ]
  },
  {
   "cell_type": "code",
   "execution_count": null,
   "id": "ca3d63b1",
   "metadata": {},
   "outputs": [],
   "source": []
  },
  {
   "cell_type": "code",
   "execution_count": 35,
   "id": "560b05f1",
   "metadata": {},
   "outputs": [
    {
     "name": "stdout",
     "output_type": "stream",
     "text": [
      "The reverse number is:  01704265972\n"
     ]
    }
   ],
   "source": [
    "num = '27956240710'\n",
    "rev_num = ''\n",
    "for i in range(len(num), 0, -1):\n",
    "    rev_num += num[i - 1]\n",
    "print(\"The reverse number is: \", rev_num)"
   ]
  }
 ],
 "metadata": {
  "kernelspec": {
   "display_name": "Python 3 (ipykernel)",
   "language": "python",
   "name": "python3"
  },
  "language_info": {
   "codemirror_mode": {
    "name": "ipython",
    "version": 3
   },
   "file_extension": ".py",
   "mimetype": "text/x-python",
   "name": "python",
   "nbconvert_exporter": "python",
   "pygments_lexer": "ipython3",
   "version": "3.9.7"
  }
 },
 "nbformat": 4,
 "nbformat_minor": 5
}
